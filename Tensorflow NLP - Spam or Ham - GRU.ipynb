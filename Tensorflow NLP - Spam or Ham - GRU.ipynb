{
 "cells": [
  {
   "cell_type": "code",
   "execution_count": 1,
   "metadata": {},
   "outputs": [
    {
     "name": "stdout",
     "output_type": "stream",
     "text": [
      "Tensorflow version = 2.3.0\n"
     ]
    }
   ],
   "source": [
    "import re\n",
    "import numpy as np\n",
    "import pandas as pd\n",
    "import tensorflow as tf\n",
    "from tensorflow.keras.preprocessing.text import Tokenizer\n",
    "from tensorflow.keras.preprocessing.sequence import pad_sequences\n",
    "\n",
    "print('Tensorflow version = {}'.format(tf.__version__))"
   ]
  },
  {
   "cell_type": "code",
   "execution_count": 2,
   "metadata": {},
   "outputs": [
    {
     "data": {
      "text/html": [
       "<div>\n",
       "<style scoped>\n",
       "    .dataframe tbody tr th:only-of-type {\n",
       "        vertical-align: middle;\n",
       "    }\n",
       "\n",
       "    .dataframe tbody tr th {\n",
       "        vertical-align: top;\n",
       "    }\n",
       "\n",
       "    .dataframe thead th {\n",
       "        text-align: right;\n",
       "    }\n",
       "</style>\n",
       "<table border=\"1\" class=\"dataframe\">\n",
       "  <thead>\n",
       "    <tr style=\"text-align: right;\">\n",
       "      <th></th>\n",
       "      <th>class</th>\n",
       "      <th>message</th>\n",
       "      <th>Unnamed: 2</th>\n",
       "      <th>Unnamed: 3</th>\n",
       "      <th>Unnamed: 4</th>\n",
       "    </tr>\n",
       "  </thead>\n",
       "  <tbody>\n",
       "    <tr>\n",
       "      <th>0</th>\n",
       "      <td>ham</td>\n",
       "      <td>Go until jurong point, crazy.. Available only ...</td>\n",
       "      <td>NaN</td>\n",
       "      <td>NaN</td>\n",
       "      <td>NaN</td>\n",
       "    </tr>\n",
       "    <tr>\n",
       "      <th>1</th>\n",
       "      <td>ham</td>\n",
       "      <td>Ok lar... Joking wif u oni...</td>\n",
       "      <td>NaN</td>\n",
       "      <td>NaN</td>\n",
       "      <td>NaN</td>\n",
       "    </tr>\n",
       "    <tr>\n",
       "      <th>2</th>\n",
       "      <td>spam</td>\n",
       "      <td>Free entry in 2 a wkly comp to win FA Cup fina...</td>\n",
       "      <td>NaN</td>\n",
       "      <td>NaN</td>\n",
       "      <td>NaN</td>\n",
       "    </tr>\n",
       "    <tr>\n",
       "      <th>3</th>\n",
       "      <td>ham</td>\n",
       "      <td>U dun say so early hor... U c already then say...</td>\n",
       "      <td>NaN</td>\n",
       "      <td>NaN</td>\n",
       "      <td>NaN</td>\n",
       "    </tr>\n",
       "    <tr>\n",
       "      <th>4</th>\n",
       "      <td>ham</td>\n",
       "      <td>Nah I don't think he goes to usf, he lives aro...</td>\n",
       "      <td>NaN</td>\n",
       "      <td>NaN</td>\n",
       "      <td>NaN</td>\n",
       "    </tr>\n",
       "  </tbody>\n",
       "</table>\n",
       "</div>"
      ],
      "text/plain": [
       "  class                                            message Unnamed: 2  \\\n",
       "0   ham  Go until jurong point, crazy.. Available only ...        NaN   \n",
       "1   ham                      Ok lar... Joking wif u oni...        NaN   \n",
       "2  spam  Free entry in 2 a wkly comp to win FA Cup fina...        NaN   \n",
       "3   ham  U dun say so early hor... U c already then say...        NaN   \n",
       "4   ham  Nah I don't think he goes to usf, he lives aro...        NaN   \n",
       "\n",
       "  Unnamed: 3 Unnamed: 4  \n",
       "0        NaN        NaN  \n",
       "1        NaN        NaN  \n",
       "2        NaN        NaN  \n",
       "3        NaN        NaN  \n",
       "4        NaN        NaN  "
      ]
     },
     "execution_count": 2,
     "metadata": {},
     "output_type": "execute_result"
    }
   ],
   "source": [
    "# Reading the data from file\n",
    "df = pd.read_csv('spam.csv', encoding = 'latin-1')\n",
    "\n",
    "df.head()"
   ]
  },
  {
   "cell_type": "code",
   "execution_count": 3,
   "metadata": {},
   "outputs": [
    {
     "name": "stdout",
     "output_type": "stream",
     "text": [
      "(5572,)\n",
      "ham     4825\n",
      "spam     747\n",
      "Name: class, dtype: int64\n"
     ]
    }
   ],
   "source": [
    "# Defining label data\n",
    "df.drop(['Unnamed: 2', 'Unnamed: 3', 'Unnamed: 4'], axis = 1, inplace = True)\n",
    "df.dropna(inplace = True)\n",
    "labels = df['class'].map({'ham':1, 'spam':'0' })\n",
    "labels = np.array(labels).astype(float)\n",
    "\n",
    "print(labels.shape)\n",
    "print(df['class'].value_counts())"
   ]
  },
  {
   "cell_type": "code",
   "execution_count": 4,
   "metadata": {},
   "outputs": [
    {
     "data": {
      "text/plain": [
       "['go until jurong point  crazy   available only in bugis n great world la e buffet    cine there got amore wat   ',\n",
       " 'ok lar    joking wif u oni   ',\n",
       " 'free entry in   a wkly comp to win fa cup final tkts   st may       text fa to       to receive entry question std txt rate t c s apply            over   s']"
      ]
     },
     "execution_count": 4,
     "metadata": {},
     "output_type": "execute_result"
    }
   ],
   "source": [
    "# Defining feature data\n",
    "sentences = []\n",
    "\n",
    "for i in range(df.shape[0]):\n",
    "    string = df.iloc[i]['message']\n",
    "    string = re.sub('[^a-zA-Z]', ' ', string)\n",
    "    string = string.lower()\n",
    "    sentences.append(string)\n",
    "\n",
    "sentences[:3]"
   ]
  },
  {
   "cell_type": "code",
   "execution_count": 5,
   "metadata": {},
   "outputs": [],
   "source": [
    "# Setting kep params and tokenizing the feature sentences\n",
    "vocab_size = 2000\n",
    "embedding_dim = 16\n",
    "max_length = 20\n",
    "trunc_type = 'post'\n",
    "oov_tok = '<OOV>'\n",
    "\n",
    "tokenizer = Tokenizer(num_words = vocab_size, oov_token = oov_tok)\n",
    "tokenizer.fit_on_texts(sentences)\n",
    "word_index = tokenizer.word_index\n",
    "sequences = tokenizer.texts_to_sequences(sentences)\n",
    "padded = pad_sequences(sequences, maxlen = max_length, truncating = trunc_type)"
   ]
  },
  {
   "cell_type": "code",
   "execution_count": 42,
   "metadata": {},
   "outputs": [
    {
     "data": {
      "text/plain": [
       "array([   0,    0,    0,    0,    0,    0,    0,    0,    0,    0,    0,\n",
       "          0,    0,    0,   48,  332, 1407,  461,    7, 1802], dtype=int32)"
      ]
     },
     "execution_count": 42,
     "metadata": {},
     "output_type": "execute_result"
    }
   ],
   "source": [
    "padded[1]"
   ]
  },
  {
   "cell_type": "code",
   "execution_count": 6,
   "metadata": {},
   "outputs": [
    {
     "name": "stdout",
     "output_type": "stream",
     "text": [
      "? ? ? ? ? ? ? ? ? ? ? ? ? ? ok lar joking wif u oni \n",
      "\n",
      "ok lar    joking wif u oni   \n"
     ]
    }
   ],
   "source": [
    "# Reverse interpret an example sentence\n",
    "reverse_word_index = dict([(value, key) for (key, value) in word_index.items()])\n",
    "\n",
    "def decode_review(text):\n",
    "    return ' '.join([reverse_word_index.get(i, '?') for i in text])\n",
    "\n",
    "print(decode_review(padded[1]), '\\n')\n",
    "print(sentences[1])"
   ]
  },
  {
   "cell_type": "code",
   "execution_count": 7,
   "metadata": {},
   "outputs": [],
   "source": [
    "# Combining feature and label data into a tensorflow dataset\n",
    "# labels = labels.reshape(labels.shape[0], 1)\n",
    "#data = np.concatenate((padded, labels), axis = 1)\n",
    "# dataset = tf.data.Dataset.from_tensor_slices(data)"
   ]
  },
  {
   "cell_type": "code",
   "execution_count": 8,
   "metadata": {},
   "outputs": [],
   "source": [
    "# Create validation set\n",
    "training_ratio = 0.8\n",
    "\n",
    "validation_padded = padded[int(len(padded)*training_ratio) : ]\n",
    "validation_labels = labels[int(len(labels)*training_ratio) : ]\n",
    "\n",
    "padded = padded[ : int(len(padded)*training_ratio)]\n",
    "training_labels = labels[ : int(len(labels)*training_ratio)]"
   ]
  },
  {
   "cell_type": "code",
   "execution_count": 9,
   "metadata": {},
   "outputs": [],
   "source": [
    "# Split the dataset internally into features and labels\n",
    "# def split_feature_label(sentence):\n",
    "#     feature = sentence[ : -1]\n",
    "#     label = sentence[-1]\n",
    "#     return feature, label\n",
    "# \n",
    "# dataset = dataset.map(split_feature_label)"
   ]
  },
  {
   "cell_type": "code",
   "execution_count": 10,
   "metadata": {},
   "outputs": [],
   "source": [
    "# Setting up batches\n",
    "# batch_size = 16\n",
    "# \n",
    "# dataset = dataset.batch(batch_size, drop_remainder = True)"
   ]
  },
  {
   "cell_type": "code",
   "execution_count": 11,
   "metadata": {},
   "outputs": [
    {
     "name": "stdout",
     "output_type": "stream",
     "text": [
      "Model: \"sequential\"\n",
      "_________________________________________________________________\n",
      "Layer (type)                 Output Shape              Param #   \n",
      "=================================================================\n",
      "embedding (Embedding)        (None, 20, 16)            32000     \n",
      "_________________________________________________________________\n",
      "bidirectional (Bidirectional (None, 64)                9600      \n",
      "_________________________________________________________________\n",
      "dense (Dense)                (None, 6)                 390       \n",
      "_________________________________________________________________\n",
      "dense_1 (Dense)              (None, 1)                 7         \n",
      "=================================================================\n",
      "Total params: 41,997\n",
      "Trainable params: 41,997\n",
      "Non-trainable params: 0\n",
      "_________________________________________________________________\n"
     ]
    }
   ],
   "source": [
    "# Defining and compiling the model\n",
    "model = tf.keras.Sequential([\n",
    "    tf.keras.layers.Embedding(vocab_size,\n",
    "                              embedding_dim,\n",
    "                              input_length = max_length),\n",
    "    tf.keras.layers.Bidirectional(tf.keras.layers.GRU(32)),\n",
    "    tf.keras.layers.Dense(6, activation='relu'),\n",
    "    tf.keras.layers.Dense(1, activation='sigmoid')\n",
    "])\n",
    "\n",
    "model.compile(loss = 'binary_crossentropy',\n",
    "              optimizer = 'adam',\n",
    "              metrics = ['accuracy'])\n",
    "model.summary()"
   ]
  },
  {
   "cell_type": "code",
   "execution_count": 9,
   "metadata": {},
   "outputs": [
    {
     "data": {
      "text/plain": [
       "(4457,)"
      ]
     },
     "execution_count": 9,
     "metadata": {},
     "output_type": "execute_result"
    }
   ],
   "source": [
    "training_labels.shape"
   ]
  },
  {
   "cell_type": "code",
   "execution_count": 15,
   "metadata": {},
   "outputs": [
    {
     "name": "stdout",
     "output_type": "stream",
     "text": [
      "Epoch 1/10\n",
      "140/140 [==============================] - 1s 9ms/step - loss: 0.3578 - accuracy: 0.8836 - val_loss: 0.1341 - val_accuracy: 0.9668\n",
      "Epoch 2/10\n",
      "140/140 [==============================] - 1s 6ms/step - loss: 0.0791 - accuracy: 0.9798 - val_loss: 0.0676 - val_accuracy: 0.9785\n",
      "Epoch 3/10\n",
      "140/140 [==============================] - 1s 6ms/step - loss: 0.0376 - accuracy: 0.9897 - val_loss: 0.0571 - val_accuracy: 0.9803\n",
      "Epoch 4/10\n",
      "140/140 [==============================] - 1s 6ms/step - loss: 0.0220 - accuracy: 0.9948 - val_loss: 0.0596 - val_accuracy: 0.9803\n",
      "Epoch 5/10\n",
      "140/140 [==============================] - 1s 6ms/step - loss: 0.0155 - accuracy: 0.9962 - val_loss: 0.0674 - val_accuracy: 0.9839\n",
      "Epoch 6/10\n",
      "140/140 [==============================] - 1s 6ms/step - loss: 0.0165 - accuracy: 0.9948 - val_loss: 0.0643 - val_accuracy: 0.9865\n",
      "Epoch 7/10\n",
      "140/140 [==============================] - 1s 6ms/step - loss: 0.0101 - accuracy: 0.9975 - val_loss: 0.0689 - val_accuracy: 0.9839\n",
      "Epoch 8/10\n",
      "140/140 [==============================] - 1s 6ms/step - loss: 0.0074 - accuracy: 0.9987 - val_loss: 0.0890 - val_accuracy: 0.9839\n",
      "Epoch 9/10\n",
      "140/140 [==============================] - 1s 6ms/step - loss: 0.0073 - accuracy: 0.9982 - val_loss: 0.0828 - val_accuracy: 0.9821\n",
      "Epoch 10/10\n",
      "140/140 [==============================] - 1s 6ms/step - loss: 0.0067 - accuracy: 0.9989 - val_loss: 0.0653 - val_accuracy: 0.9830\n"
     ]
    }
   ],
   "source": [
    "# Training the model\n",
    "history = model.fit(padded, training_labels,\n",
    "                    epochs = 10,\n",
    "                    validation_data = (validation_padded, validation_labels))"
   ]
  },
  {
   "cell_type": "code",
   "execution_count": 16,
   "metadata": {},
   "outputs": [
    {
     "data": {
      "image/png": "[encoded data removed]",
      "text/plain": [
       "<Figure size 432x288 with 1 Axes>"
      ]
     },
     "metadata": {
      "needs_background": "light"
     },
     "output_type": "display_data"
    },
    {
     "data": {
      "image/png": "[encoded data removed]",
      "text/plain": [
       "<Figure size 432x288 with 1 Axes>"
      ]
     },
     "metadata": {
      "needs_background": "light"
     },
     "output_type": "display_data"
    }
   ],
   "source": [
    "import matplotlib.pyplot as plt\n",
    "\n",
    "def plot_graphs(history, string):\n",
    "    plt.plot(history.history[string])\n",
    "    plt.plot(history.history['val_' + string])\n",
    "    plt.xlabel('Epochs')\n",
    "    plt.ylabel(string)\n",
    "    plt.legend([string, 'val_' + string])\n",
    "    plt.show()\n",
    "\n",
    "plot_graphs(history, 'accuracy')\n",
    "plot_graphs(history, 'loss')"
   ]
  },
  {
   "cell_type": "code",
   "execution_count": 17,
   "metadata": {},
   "outputs": [],
   "source": [
    "model.save('./model/spam_gru32.h5')"
   ]
  },
  {
   "cell_type": "code",
   "execution_count": 47,
   "metadata": {},
   "outputs": [],
   "source": [
    "import io, json\n",
    "\n",
    "tokenizer_json = tokenizer.to_json()\n",
    "with io.open('./model/tokenizer.json', 'w', encoding = 'utf-8') as f:\n",
    "    f.write(json.dumps(tokenizer_json, ensure_ascii = False))"
   ]
  },
  {
   "cell_type": "code",
   "execution_count": 49,
   "metadata": {},
   "outputs": [],
   "source": [
    "from tensorflow.keras.models import load_model\n",
    "\n",
    "model_file = './model/spam_gru32.h5'\n",
    "model = load_model(model_file)"
   ]
  },
  {
   "cell_type": "code",
   "execution_count": 50,
   "metadata": {},
   "outputs": [
    {
     "name": "stdout",
     "output_type": "stream",
     "text": [
      "[[  0   0   0   0   0   0   0   0   0   0   0   0   0   0   0   0 338 231\n",
      "  382 567]]\n"
     ]
    },
    {
     "data": {
      "text/plain": [
       "array([[0.9712149]], dtype=float32)"
      ]
     },
     "execution_count": 50,
     "metadata": {},
     "output_type": "execute_result"
    }
   ],
   "source": [
    "sentences = []\n",
    "text = \"Wanna Chat? Watch movie!\"\n",
    "text = re.sub('[^A-Za-z]', ' ', text)\n",
    "text = text.lower()\n",
    "sentences.append(text)\n",
    "\n",
    "sentences = tokenizer.texts_to_sequences(sentences)\n",
    "\n",
    "padded = pad_sequences(sentences, maxlen = max_length, truncating = trunc_type)\n",
    "print(padded)\n",
    "\n",
    "model.predict(padded)\n",
    "\n",
    "# def Predict_Spam(sentence):\n",
    "#     sentence = re.sub('[^A-Za-z]', ' ', sentence)\n",
    "#     sentence = sentence.lower()\n",
    "#     sentence =  tokenizer.texts_to_sequences(sentence)\n",
    "#     sentence = pad_sequences(sentence, maxlen = max_length, truncating = trunc_type)\n",
    "#     #padded = padded.reshape(padded.shape[0], 1)\n",
    "#     result = model.predict(sentence)\n",
    "#     return result\n",
    "\n",
    "# result = Predict_Spam(text)\n",
    "# print(result)"
   ]
  },
  {
   "cell_type": "code",
   "execution_count": null,
   "metadata": {},
   "outputs": [],
   "source": []
  }
 ],
 "metadata": {
  "kernelspec": {
   "display_name": "Python 3",
   "language": "python",
   "name": "python3"
  },
  "language_info": {
   "codemirror_mode": {
    "name": "ipython",
    "version": 3
   },
   "file_extension": ".py",
   "mimetype": "text/x-python",
   "name": "python",
   "nbconvert_exporter": "python",
   "pygments_lexer": "ipython3",
   "version": "3.8.2"
  }
 },
 "nbformat": 4,
 "nbformat_minor": 4
}
